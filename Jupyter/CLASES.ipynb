{
 "cells": [
  {
   "cell_type": "code",
   "execution_count": 2,
   "id": "16dae543-c4c3-45b1-8a5b-759925b122bb",
   "metadata": {},
   "outputs": [
    {
     "name": "stdout",
     "output_type": "stream",
     "text": [
      "a: 5 b; 3 c: 1.6666666666666667\n",
      "8\n",
      "15\n",
      "0.33333333333333337\n",
      "1.6666666666666667\n",
      "125\n"
     ]
    }
   ],
   "source": [
    "# DEFINIR VARIABLE\n",
    "\n",
    "a = 5\n",
    "b = 3\n",
    "c = a / b\n",
    "print('a:',a,\"b;\",b,'c:',c)\n",
    "print(a+b)\n",
    "print(a*b)\n",
    "print(c/a)\n",
    "print(c%a)\n",
    "print(a**b)"
   ]
  },
  {
   "cell_type": "code",
   "execution_count": 3,
   "id": "a441cc13-6d97-46c4-a877-1ae632a57500",
   "metadata": {},
   "outputs": [
    {
     "name": "stdout",
     "output_type": "stream",
     "text": [
      "[20240122, 0.8, 'Ene-22', True]\n"
     ]
    }
   ],
   "source": [
    "\n",
    "#LISTAS\n",
    "Tipo = ['Integer','Float','String','Boolean']\n",
    "Ejemplo = [20240122, 0.8, 'Ene-22', True]\n",
    "print(Ejemplo)"
   ]
  },
  {
   "cell_type": "code",
   "execution_count": 4,
   "id": "e960681d-d3c3-43e9-9101-fd9d28036e43",
   "metadata": {},
   "outputs": [
    {
     "name": "stdout",
     "output_type": "stream",
     "text": [
      "('Algo', 'Otro', 'Mas', 25)\n"
     ]
    }
   ],
   "source": [
    "#TUPLAS\n",
    "tupla = ('Algo','Otro','Mas',25)\n",
    "print(tupla)"
   ]
  },
  {
   "cell_type": "code",
   "execution_count": 2,
   "id": "8a6b22b8-c768-41a9-9a33-05510b488ebe",
   "metadata": {},
   "outputs": [],
   "source": [
    "import math\n",
    "import pandas as pd\n"
   ]
  },
  {
   "cell_type": "code",
   "execution_count": 6,
   "id": "3d7be5a7-ddf6-4cb0-b15d-d3e9952fc457",
   "metadata": {},
   "outputs": [
    {
     "name": "stdout",
     "output_type": "stream",
     "text": [
      "Perimetro 31.41592653589793\n",
      "El perimero de la circuferencia de radio 5 es 31.42\n"
     ]
    }
   ],
   "source": [
    "r = 5\n",
    "p=2*math.pi*r\n",
    "print('Perimetro', p)\n",
    "print('El perimero de la circuferencia de radio {0} es {1:0.2f}'.format(r,p))"
   ]
  },
  {
   "cell_type": "code",
   "execution_count": 3,
   "id": "25ec6b31-bc79-4fba-a179-d2b623e1ec9c",
   "metadata": {},
   "outputs": [
    {
     "ename": "NameError",
     "evalue": "name 'Ejemplo' is not defined",
     "output_type": "error",
     "traceback": [
      "\u001b[1;31m---------------------------------------------------------------------------\u001b[0m",
      "\u001b[1;31mNameError\u001b[0m                                 Traceback (most recent call last)",
      "Cell \u001b[1;32mIn[3], line 2\u001b[0m\n\u001b[0;32m      1\u001b[0m \u001b[38;5;66;03m#Creacion de un DataFrame\u001b[39;00m\n\u001b[1;32m----> 2\u001b[0m tipoDato \u001b[38;5;241m=\u001b[39m pd\u001b[38;5;241m.\u001b[39mDataFrame(data\u001b[38;5;241m=\u001b[39mEjemplo, index\u001b[38;5;241m=\u001b[39m tipo, columns\u001b[38;5;241m=\u001b[39m[\u001b[38;5;124m'\u001b[39m\u001b[38;5;124mEjemplo\u001b[39m\u001b[38;5;124m'\u001b[39m])\n\u001b[0;32m      3\u001b[0m tipoDato\n\u001b[0;32m      4\u001b[0m tipoDato[\u001b[38;5;124m'\u001b[39m\u001b[38;5;124mEjemplo\u001b[39m\u001b[38;5;124m'\u001b[39m][\u001b[38;5;124m'\u001b[39m\u001b[38;5;124mString\u001b[39m\u001b[38;5;124m'\u001b[39m]\n",
      "\u001b[1;31mNameError\u001b[0m: name 'Ejemplo' is not defined"
     ]
    }
   ],
   "source": [
    "#Creacion de un DataFrame\n",
    "tipoDato = pd.DataFrame(data=Ejemplo, index= tipo, columns=['Ejemplo'])\n",
    "tipoDato\n",
    "tipoDato['Ejemplo']['String']\n"
   ]
  },
  {
   "cell_type": "code",
   "execution_count": 5,
   "id": "719a6e67-9a16-4764-8f7c-9669084c2063",
   "metadata": {},
   "outputs": [
    {
     "ename": "NameError",
     "evalue": "name 'data' is not defined",
     "output_type": "error",
     "traceback": [
      "\u001b[1;31m---------------------------------------------------------------------------\u001b[0m",
      "\u001b[1;31mNameError\u001b[0m                                 Traceback (most recent call last)",
      "Cell \u001b[1;32mIn[5], line 1\u001b[0m\n\u001b[1;32m----> 1\u001b[0m tabla_reducida \u001b[38;5;241m=\u001b[39m data[[\u001b[38;5;124m'\u001b[39m\u001b[38;5;124mspecies\u001b[39m\u001b[38;5;124m'\u001b[39m,\u001b[38;5;124m'\u001b[39m\u001b[38;5;124msex\u001b[39m\u001b[38;5;124m'\u001b[39m,\u001b[38;5;124m'\u001b[39m\u001b[38;5;124mbody_mass_g\u001b[39m\u001b[38;5;124m'\u001b[39m]]\n",
      "\u001b[1;31mNameError\u001b[0m: name 'data' is not defined"
     ]
    }
   ],
   "source": [
    "tabla_reducida = data[['species','sex','body_mass_g']]\n"
   ]
  },
  {
   "cell_type": "code",
   "execution_count": 6,
   "id": "6c593e17-b967-495d-afb7-2e1972f9f68d",
   "metadata": {},
   "outputs": [
    {
     "ename": "NameError",
     "evalue": "name 'data' is not defined",
     "output_type": "error",
     "traceback": [
      "\u001b[1;31m---------------------------------------------------------------------------\u001b[0m",
      "\u001b[1;31mNameError\u001b[0m                                 Traceback (most recent call last)",
      "Cell \u001b[1;32mIn[6], line 1\u001b[0m\n\u001b[1;32m----> 1\u001b[0m tabla_reducida \u001b[38;5;241m=\u001b[39m data[[\u001b[38;5;124m'\u001b[39m\u001b[38;5;124mspecies\u001b[39m\u001b[38;5;124m'\u001b[39m,\u001b[38;5;124m'\u001b[39m\u001b[38;5;124msex\u001b[39m\u001b[38;5;124m'\u001b[39m,\u001b[38;5;124m'\u001b[39m\u001b[38;5;124mbody_mass_g\u001b[39m\u001b[38;5;124m'\u001b[39m]]\n\u001b[0;32m      3\u001b[0m \u001b[38;5;66;03m#Agrupaciones de Datos\u001b[39;00m\n\u001b[0;32m      4\u001b[0m data[\u001b[38;5;124m'\u001b[39m\u001b[38;5;124msex\u001b[39m\u001b[38;5;124m'\u001b[39m]\u001b[38;5;241m.\u001b[39mvalue_counts()\n",
      "\u001b[1;31mNameError\u001b[0m: name 'data' is not defined"
     ]
    }
   ],
   "source": [
    "tabla_reducida = data[['species','sex','body_mass_g']]\n",
    "\n",
    "#Agrupaciones de Datos\n",
    "data['sex'].value_counts()\n",
    "data['species'].value_counts()\n",
    "data['island'].value_counts()"
   ]
  },
  {
   "cell_type": "code",
   "execution_count": 1,
   "id": "45fc5a3a-ff93-464e-9fde-e30bd0d60463",
   "metadata": {},
   "outputs": [],
   "source": []
  },
  {
   "cell_type": "code",
   "execution_count": null,
   "id": "a8807d67",
   "metadata": {},
   "outputs": [],
   "source": []
  },
  {
   "cell_type": "code",
   "execution_count": null,
   "id": "0ec9d5bb",
   "metadata": {},
   "outputs": [],
   "source": []
  }
 ],
 "metadata": {
  "kernelspec": {
   "display_name": "Python 3 (ipykernel)",
   "language": "python",
   "name": "python3"
  },
  "language_info": {
   "codemirror_mode": {
    "name": "ipython",
    "version": 3
   },
   "file_extension": ".py",
   "mimetype": "text/x-python",
   "name": "python",
   "nbconvert_exporter": "python",
   "pygments_lexer": "ipython3",
   "version": "3.11.5"
  }
 },
 "nbformat": 4,
 "nbformat_minor": 5
}
